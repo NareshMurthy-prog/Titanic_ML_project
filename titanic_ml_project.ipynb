{
 "cells": [
  {
   "cell_type": "code",
   "execution_count": 253,
   "id": "4125a314-513e-46b2-bc53-0dade05d9776",
   "metadata": {},
   "outputs": [
    {
     "name": "stdout",
     "output_type": "stream",
     "text": [
      "Validation Accuracy: 0.82\n",
      "Submission file saved as 'titanic_predictions.csv'\n"
     ]
    }
   ],
   "source": [
    "import pandas as pd\n",
    "from sklearn.model_selection import train_test_split\n",
    "from sklearn.linear_model import LogisticRegression\n",
    "from sklearn.metrics import accuracy_score\n",
    "\n",
    "# === 1. Load Data ===\n",
    "train_df = pd.read_csv(r\"C:\\Users\\Nares\\OneDrive\\Desktop\\train.csv\")\n",
    "test_df = pd.read_csv(r\"C:\\Users\\Nares\\OneDrive\\Desktop\\test.csv\")\n",
    "\n",
    "# === 2. Preprocess train_df ===\n",
    "train_df['Age'] = train_df['Age'].fillna(train_df['Age'].median())\n",
    "train_df['Fare'] = train_df['Fare'].fillna(train_df['Fare'].median())\n",
    "train_df['Sex'] = train_df['Sex'].map({'male': 0, 'female': 1})\n",
    "train_df['Cabin'] = train_df['Cabin'].notnull().astype(int)\n",
    "train_df['Embarked'] = train_df['Embarked'].fillna(train_df['Embarked'].mode()[0])\n",
    "embarked_dummies_train = pd.get_dummies(train_df['Embarked'], prefix='Embarked')\n",
    "train_df = pd.concat([train_df, embarked_dummies_train], axis=1)\n",
    "for col in ['Embarked_C', 'Embarked_Q', 'Embarked_S']:\n",
    "    if col not in train_df.columns:\n",
    "        train_df[col] = 0\n",
    "\n",
    "# === 3. Select Features ===\n",
    "features = ['Pclass', 'Sex', 'Age', 'SibSp', 'Parch', 'Fare', 'Cabin',\n",
    "            'Embarked_C', 'Embarked_Q', 'Embarked_S']\n",
    "X = train_df[features]\n",
    "y = train_df['Survived']\n",
    "\n",
    "# === 4. Train/Validation Split ===\n",
    "X_train, X_val, y_train, y_val = train_test_split(X, y, test_size=0.2, random_state=42)\n",
    "\n",
    "# === 5. Train Model ===\n",
    "model = LogisticRegression(max_iter=1000)\n",
    "model.fit(X_train, y_train)\n",
    "\n",
    "# === 6. Evaluate on Validation Set ===\n",
    "y_pred = model.predict(X_val)\n",
    "print(f\"Validation Accuracy: {accuracy_score(y_val, y_pred):.2f}\")\n",
    "\n",
    "# === 7. Preprocess test_df ===\n",
    "test_df['Age'] = test_df['Age'].fillna(train_df['Age'].median())\n",
    "test_df['Fare'] = test_df['Fare'].fillna(train_df['Fare'].median())\n",
    "test_df['Sex'] = test_df['Sex'].map({'male': 0, 'female': 1})\n",
    "test_df['Cabin'] = test_df['Cabin'].notnull().astype(int)\n",
    "test_df['Embarked'] = test_df['Embarked'].fillna(train_df['Embarked'].mode()[0])\n",
    "embarked_dummies_test = pd.get_dummies(test_df['Embarked'], prefix='Embarked')\n",
    "test_df = pd.concat([test_df, embarked_dummies_test], axis=1)\n",
    "for col in ['Embarked_C', 'Embarked_Q', 'Embarked_S']:\n",
    "    if col not in test_df.columns:\n",
    "        test_df[col] = 0\n",
    "\n",
    "# === 8. Predict on Test Set ===\n",
    "X_test = test_df[features]\n",
    "test_predictions = model.predict(X_test)\n",
    "\n",
    "# === 9. Create Submission File ===\n",
    "submission = pd.DataFrame({\n",
    "    'PassengerId': test_df['PassengerId'],\n",
    "    'Survived': test_predictions\n",
    "})\n",
    "submission.to_csv('titanic_predictions.csv', index=False)\n",
    "print(\"Submission file saved as 'titanic_predictions.csv'\")\n"
   ]
  },
  {
   "cell_type": "code",
   "execution_count": null,
   "id": "272bcdb9-7d9a-4da2-8fde-6e0aadab49a9",
   "metadata": {},
   "outputs": [],
   "source": []
  },
  {
   "cell_type": "code",
   "execution_count": null,
   "id": "b323e69c-69af-4f21-9a8f-e07b82fb9a5b",
   "metadata": {},
   "outputs": [],
   "source": []
  }
 ],
 "metadata": {
  "kernelspec": {
   "display_name": "Python 3 (ipykernel)",
   "language": "python",
   "name": "python3"
  },
  "language_info": {
   "codemirror_mode": {
    "name": "ipython",
    "version": 3
   },
   "file_extension": ".py",
   "mimetype": "text/x-python",
   "name": "python",
   "nbconvert_exporter": "python",
   "pygments_lexer": "ipython3",
   "version": "3.12.4"
  }
 },
 "nbformat": 4,
 "nbformat_minor": 5
}
